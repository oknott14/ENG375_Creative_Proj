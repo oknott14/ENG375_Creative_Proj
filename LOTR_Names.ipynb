{
  "nbformat": 4,
  "nbformat_minor": 0,
  "metadata": {
    "colab": {
      "name": "LOTR_Names.ipynb",
      "provenance": [],
      "collapsed_sections": [],
      "authorship_tag": "ABX9TyNlxz4yMQ1C9IM6JX80qRIN",
      "include_colab_link": true
    },
    "kernelspec": {
      "name": "python3",
      "display_name": "Python 3"
    },
    "language_info": {
      "name": "python"
    }
  },
  "cells": [
    {
      "cell_type": "markdown",
      "metadata": {
        "id": "view-in-github",
        "colab_type": "text"
      },
      "source": [
        "<a href=\"https://colab.research.google.com/github/oknott14/ENG375_Creative_Proj/blob/main/LOTR_Names.ipynb\" target=\"_parent\"><img src=\"https://colab.research.google.com/assets/colab-badge.svg\" alt=\"Open In Colab\"/></a>"
      ]
    },
    {
      "cell_type": "code",
      "execution_count": 26,
      "metadata": {
        "id": "BkeH901f9DvZ",
        "outputId": "9f5bd137-0d9e-4b7c-a5d9-7e8f02623332",
        "colab": {
          "base_uri": "https://localhost:8080/"
        }
      },
      "outputs": [
        {
          "output_type": "stream",
          "name": "stdout",
          "text": [
            "fatal: destination path 'ENG375_Creative_Proj' already exists and is not an empty directory.\n"
          ]
        }
      ],
      "source": [
        "import numpy as np\n",
        "from bs4 import BeautifulSoup as bs\n",
        "from google.colab import drive\n",
        "import re\n",
        "import pandas as pd\n",
        "from scipy.stats import norm\n",
        "import matplotlib.pyplot as plt\n",
        "from matplotlib import cm\n",
        "import IPython\n",
        "!git clone 'https://github.com/oknott14/ENG375_Creative_Proj.git'"
      ]
    },
    {
      "cell_type": "markdown",
      "source": [
        "#Setup\n",
        "To begin we will scrape all of the names from The Lord of the Rings from a website. I have chosen http://lotrproject.com/. Scraping a website involves sifting through all of the html and only keeping what is relevant. Here are the first 5 html tags taken from the website. They reject your authentification when making requests through python's libraries, so we have stored the html in the file read above.\n",
        "\n",
        "Within this HTML, we are looking for all \\<div> tags with the element class. These store all of the information we will need about the characters. Using BeautifulSoup, a python library, this is quite easy."
      ],
      "metadata": {
        "id": "DNUOgRk_H7Xs"
      }
    },
    {
      "cell_type": "code",
      "source": [
        "html = bs(open('ENG375_Creative_Proj/LOTR_Family_Tree.rtf').read())\n",
        "elements = html.find_all('div', 'element')\n",
        "elements[0:5]"
      ],
      "metadata": {
        "colab": {
          "base_uri": "https://localhost:8080/"
        },
        "id": "PjydGSrvIXmv",
        "outputId": "a5ac74cf-de55-49da-ce8e-eca2a093a0df"
      },
      "execution_count": 27,
      "outputs": [
        {
          "output_type": "execute_result",
          "data": {
            "text/plain": [
              "[<div class=\"Dunedain Man element\" id=\"1\" style=\"width:100px; top:5068px; left: 3332px;\"><div class=\"position\"></div><div class=\"livedin Rivendell MinasTirith\"></div><div class=\"age ta foa\"></div>Aragorn II</div>,\n",
              " <div class=\" Half-elf element\" id=\"2\" style=\"width:100px; top:5068px; left: 3184px;\"><div class=\"position\"></div><div class=\"livedin Rivendell MinasTirith\"></div><div class=\"age ta foa\"></div>Arwen</div>,\n",
              " <div class=\" Half-elf element\" id=\"3\" style=\"width:100px; top:1153px; left: 3110px;\"><div class=\"position\"></div><div class=\"livedin HavensofSirion Lindon Rivendell\"></div><div class=\"age fa sa ta foa\"></div>Elrond</div>,\n",
              " <div class=\" Elf element\" id=\"4\" style=\"width:100px; top:1153px; left: 2970px;\"><div class=\"livedin Eregion Lothlorien Rivendell\"></div><div class=\"age ta\"></div>Celebr\\'edan</div>,\n",
              " <div class=\" Half-elf element\" id=\"5\" style=\"width:100px; top:1213px; left: 2830px;\"><div class=\"livedin Rivendell\"></div><div class=\"age ta foa\"></div>Elrohir</div>]"
            ]
          },
          "metadata": {},
          "execution_count": 27
        }
      ]
    },
    {
      "cell_type": "markdown",
      "source": [
        "From here, we can access specific iformation for each character. Above, you can see that Aragorn's tag is accompanied by his Dunedain / Man race and some of the places that he has lived. This is what we will extract from the tags."
      ],
      "metadata": {
        "id": "WZLmfBAuIl5D"
      }
    },
    {
      "cell_type": "code",
      "source": [
        "#Process names and families\n",
        "elements = html.find_all('div', 'element')\n",
        "data = []\n",
        "alt = []\n",
        "for elt in elements:\n",
        "  name = re.sub(r\"\\\\|\\n|'|\\dst|\\dnd|\\drd|\\dth|\\d\", \"\", elt.text)\n",
        "  if '?' in name:\n",
        "    continue\n",
        "  try:\n",
        "    ethn, race, _ = elt.attrs['class']\n",
        "  except:\n",
        "    attr = elt.attrs['class'][:-1]\n",
        "    if attr[0] == 'noncanon':\n",
        "      _, ethn, race = attr\n",
        "    elif attr[0] == 'House':\n",
        "      _,_, ethn, race = attr\n",
        "      ethn = f'House of {ethn}'\n",
        "    elif attr[0] == '':\n",
        "      ethn = None\n",
        "      race = 'Man or Elf'\n",
        "    elif attr[0] == 'Nazgul':\n",
        "      ethn = 'Nazgul/Wraith'\n",
        "      race = 'Man'\n",
        "    elif attr[0] == 'Anomaly':\n",
        "      continue\n",
        "    else:\n",
        "      fam, dist, race = attr\n",
        "      ethn = f'{fam}-{dist}'\n",
        "  ethn = None if ethn == \"\" else ethn\n",
        "\n",
        "  lvin = elt.find('div','livedin')\n",
        "  homes = None if lvin is None else lvin.attrs['class'][1:]\n",
        "  data.append([name, ethn, race, homes])\n",
        "data = np.array(data)\n",
        "df = pd.DataFrame(data, columns=['Name','Ethnicity','Race', 'Homes'])"
      ],
      "metadata": {
        "id": "cy7ICJfvH1WJ",
        "colab": {
          "base_uri": "https://localhost:8080/"
        },
        "outputId": "5aa2472c-c748-4b76-bd4b-58d696885775"
      },
      "execution_count": 28,
      "outputs": [
        {
          "output_type": "stream",
          "name": "stderr",
          "text": [
            "/usr/local/lib/python3.7/dist-packages/ipykernel_launcher.py:34: VisibleDeprecationWarning: Creating an ndarray from ragged nested sequences (which is a list-or-tuple of lists-or-tuples-or ndarrays with different lengths or shapes) is deprecated. If you meant to do this, you must specify 'dtype=object' when creating the ndarray.\n"
          ]
        }
      ]
    },
    {
      "cell_type": "markdown",
      "source": [
        "From the HTML, we took each character's name, their ethnicity (if provided), their race, and the places they have lived (if provided). Now that we have all our data, we can turn names into numebers."
      ],
      "metadata": {
        "id": "spD4tNQ7QQbG"
      }
    },
    {
      "cell_type": "code",
      "source": [
        "df.head()"
      ],
      "metadata": {
        "colab": {
          "base_uri": "https://localhost:8080/",
          "height": 206
        },
        "id": "oI63eEOHQqx6",
        "outputId": "a2ed2eaa-bf84-45bb-ba2f-7f9b65eb044e"
      },
      "execution_count": 29,
      "outputs": [
        {
          "output_type": "execute_result",
          "data": {
            "text/plain": [
              "         Name Ethnicity      Race                                Homes\n",
              "0  Aragorn II  Dunedain       Man             [Rivendell, MinasTirith]\n",
              "1       Arwen      None  Half-elf             [Rivendell, MinasTirith]\n",
              "2      Elrond      None  Half-elf  [HavensofSirion, Lindon, Rivendell]\n",
              "3  Celebredan      None       Elf     [Eregion, Lothlorien, Rivendell]\n",
              "4     Elrohir      None  Half-elf                          [Rivendell]"
            ],
            "text/html": [
              "\n",
              "  <div id=\"df-50a6925d-a18a-42c6-9369-4bf2ab099bd3\">\n",
              "    <div class=\"colab-df-container\">\n",
              "      <div>\n",
              "<style scoped>\n",
              "    .dataframe tbody tr th:only-of-type {\n",
              "        vertical-align: middle;\n",
              "    }\n",
              "\n",
              "    .dataframe tbody tr th {\n",
              "        vertical-align: top;\n",
              "    }\n",
              "\n",
              "    .dataframe thead th {\n",
              "        text-align: right;\n",
              "    }\n",
              "</style>\n",
              "<table border=\"1\" class=\"dataframe\">\n",
              "  <thead>\n",
              "    <tr style=\"text-align: right;\">\n",
              "      <th></th>\n",
              "      <th>Name</th>\n",
              "      <th>Ethnicity</th>\n",
              "      <th>Race</th>\n",
              "      <th>Homes</th>\n",
              "    </tr>\n",
              "  </thead>\n",
              "  <tbody>\n",
              "    <tr>\n",
              "      <th>0</th>\n",
              "      <td>Aragorn II</td>\n",
              "      <td>Dunedain</td>\n",
              "      <td>Man</td>\n",
              "      <td>[Rivendell, MinasTirith]</td>\n",
              "    </tr>\n",
              "    <tr>\n",
              "      <th>1</th>\n",
              "      <td>Arwen</td>\n",
              "      <td>None</td>\n",
              "      <td>Half-elf</td>\n",
              "      <td>[Rivendell, MinasTirith]</td>\n",
              "    </tr>\n",
              "    <tr>\n",
              "      <th>2</th>\n",
              "      <td>Elrond</td>\n",
              "      <td>None</td>\n",
              "      <td>Half-elf</td>\n",
              "      <td>[HavensofSirion, Lindon, Rivendell]</td>\n",
              "    </tr>\n",
              "    <tr>\n",
              "      <th>3</th>\n",
              "      <td>Celebredan</td>\n",
              "      <td>None</td>\n",
              "      <td>Elf</td>\n",
              "      <td>[Eregion, Lothlorien, Rivendell]</td>\n",
              "    </tr>\n",
              "    <tr>\n",
              "      <th>4</th>\n",
              "      <td>Elrohir</td>\n",
              "      <td>None</td>\n",
              "      <td>Half-elf</td>\n",
              "      <td>[Rivendell]</td>\n",
              "    </tr>\n",
              "  </tbody>\n",
              "</table>\n",
              "</div>\n",
              "      <button class=\"colab-df-convert\" onclick=\"convertToInteractive('df-50a6925d-a18a-42c6-9369-4bf2ab099bd3')\"\n",
              "              title=\"Convert this dataframe to an interactive table.\"\n",
              "              style=\"display:none;\">\n",
              "        \n",
              "  <svg xmlns=\"http://www.w3.org/2000/svg\" height=\"24px\"viewBox=\"0 0 24 24\"\n",
              "       width=\"24px\">\n",
              "    <path d=\"M0 0h24v24H0V0z\" fill=\"none\"/>\n",
              "    <path d=\"M18.56 5.44l.94 2.06.94-2.06 2.06-.94-2.06-.94-.94-2.06-.94 2.06-2.06.94zm-11 1L8.5 8.5l.94-2.06 2.06-.94-2.06-.94L8.5 2.5l-.94 2.06-2.06.94zm10 10l.94 2.06.94-2.06 2.06-.94-2.06-.94-.94-2.06-.94 2.06-2.06.94z\"/><path d=\"M17.41 7.96l-1.37-1.37c-.4-.4-.92-.59-1.43-.59-.52 0-1.04.2-1.43.59L10.3 9.45l-7.72 7.72c-.78.78-.78 2.05 0 2.83L4 21.41c.39.39.9.59 1.41.59.51 0 1.02-.2 1.41-.59l7.78-7.78 2.81-2.81c.8-.78.8-2.07 0-2.86zM5.41 20L4 18.59l7.72-7.72 1.47 1.35L5.41 20z\"/>\n",
              "  </svg>\n",
              "      </button>\n",
              "      \n",
              "  <style>\n",
              "    .colab-df-container {\n",
              "      display:flex;\n",
              "      flex-wrap:wrap;\n",
              "      gap: 12px;\n",
              "    }\n",
              "\n",
              "    .colab-df-convert {\n",
              "      background-color: #E8F0FE;\n",
              "      border: none;\n",
              "      border-radius: 50%;\n",
              "      cursor: pointer;\n",
              "      display: none;\n",
              "      fill: #1967D2;\n",
              "      height: 32px;\n",
              "      padding: 0 0 0 0;\n",
              "      width: 32px;\n",
              "    }\n",
              "\n",
              "    .colab-df-convert:hover {\n",
              "      background-color: #E2EBFA;\n",
              "      box-shadow: 0px 1px 2px rgba(60, 64, 67, 0.3), 0px 1px 3px 1px rgba(60, 64, 67, 0.15);\n",
              "      fill: #174EA6;\n",
              "    }\n",
              "\n",
              "    [theme=dark] .colab-df-convert {\n",
              "      background-color: #3B4455;\n",
              "      fill: #D2E3FC;\n",
              "    }\n",
              "\n",
              "    [theme=dark] .colab-df-convert:hover {\n",
              "      background-color: #434B5C;\n",
              "      box-shadow: 0px 1px 3px 1px rgba(0, 0, 0, 0.15);\n",
              "      filter: drop-shadow(0px 1px 2px rgba(0, 0, 0, 0.3));\n",
              "      fill: #FFFFFF;\n",
              "    }\n",
              "  </style>\n",
              "\n",
              "      <script>\n",
              "        const buttonEl =\n",
              "          document.querySelector('#df-50a6925d-a18a-42c6-9369-4bf2ab099bd3 button.colab-df-convert');\n",
              "        buttonEl.style.display =\n",
              "          google.colab.kernel.accessAllowed ? 'block' : 'none';\n",
              "\n",
              "        async function convertToInteractive(key) {\n",
              "          const element = document.querySelector('#df-50a6925d-a18a-42c6-9369-4bf2ab099bd3');\n",
              "          const dataTable =\n",
              "            await google.colab.kernel.invokeFunction('convertToInteractive',\n",
              "                                                     [key], {});\n",
              "          if (!dataTable) return;\n",
              "\n",
              "          const docLinkHtml = 'Like what you see? Visit the ' +\n",
              "            '<a target=\"_blank\" href=https://colab.research.google.com/notebooks/data_table.ipynb>data table notebook</a>'\n",
              "            + ' to learn more about interactive tables.';\n",
              "          element.innerHTML = '';\n",
              "          dataTable['output_type'] = 'display_data';\n",
              "          await google.colab.output.renderOutput(dataTable, element);\n",
              "          const docLink = document.createElement('div');\n",
              "          docLink.innerHTML = docLinkHtml;\n",
              "          element.appendChild(docLink);\n",
              "        }\n",
              "      </script>\n",
              "    </div>\n",
              "  </div>\n",
              "  "
            ]
          },
          "metadata": {},
          "execution_count": 29
        }
      ]
    },
    {
      "cell_type": "markdown",
      "source": [
        "#Short Example\n",
        "Our strategy will be to take the letters of each name and map them to 26 dimensions. From here, we can compute the \"distance\" of any name to each name from the series. Since 26 dimensions is impossible to imagine, lets start with an example.\n",
        "\n",
        "In class we talked about the different sounds common in each language. The elves utilize a lot of open sounds which contain the letters e, l, a, o, n, etc. Orcs have a harsher sounding dialect thanks to Melkor's hatred of all things Middle Earth. Their toungue contains sharp and unpleasant sounds formed with u, k, g, kh, gb etc.\n",
        "\n",
        "Using this example, we can create a two dimensional representation of this type of language."
      ],
      "metadata": {
        "id": "hqY6cYOdQvqC"
      }
    },
    {
      "cell_type": "code",
      "source": [
        "#Map of letters to numbers\n",
        "alph = list('abcdefghijklmnopqrstuvwxyz')\n",
        "a_map = {}\n",
        "for i in range(26):\n",
        "  a_map[alph[i]] = i\n",
        "a_map[' '] = 27\n",
        "a_map['-'] = 27\n",
        "\n",
        "def get_chars(lam, num=7):\n",
        "  return np.array(list(df[df['Race'].apply(lam)]['Name'].agg('sum').lower()))\n",
        "\n",
        "elf_chars = get_chars(lambda c: 'Elf' in c or 'elf' in c)\n",
        "orc_chars = get_chars(lambda c: 'Orc' in c)[:-1]\n",
        "\n",
        "#Powerset and convert to ints\n",
        "def split2(lst):\n",
        "  rv = []\n",
        "  for i in range(len(lst)-1):\n",
        "    rv.append(lst[i:i+2])\n",
        "  return rv\n",
        "\n",
        "elf_pairs = split2(elf_chars)\n",
        "orc_pairs = split2(orc_chars)\n",
        "\n",
        "prs, cts = np.unique(elf_pairs, return_counts = True, axis=0)\n",
        "elf_pairs = prs[cts.argsort()][-10:]\n",
        "\n",
        "prs, cts = np.unique(orc_pairs, return_counts = True, axis=0)\n",
        "orc_pairs = prs[cts.argsort()][-10:]\n",
        "\n",
        "print(f\"Most common elvish character pairings:\\n {elf_pairs}\")\n",
        "print(f\"Most common orcish character pairings:\\n {orc_pairs}\")\n",
        "\n",
        "def ltn(lst):\n",
        "  ptn = lambda x: [a_map[x[0]], a_map[x[1]]]\n",
        "  return np.array([ptn(x) for x in lst])\n",
        "\n",
        "elf_pts = ltn(elf_pairs)\n",
        "orc_pts = ltn(orc_pairs)\n",
        "\n",
        "plt.scatter(elf_pts.T[0], elf_pts.T[1], c='green')\n",
        "plt.scatter(orc_pts.T[0], orc_pts.T[1], c='red')\n",
        "plt.plot([2,2,17,17],[0,17,17,0], c='black')"
      ],
      "metadata": {
        "colab": {
          "base_uri": "https://localhost:8080/",
          "height": 664
        },
        "id": "Uh4TdgsrRF0A",
        "outputId": "0449f56e-2928-4078-8f59-297db79af5fa"
      },
      "execution_count": 30,
      "outputs": [
        {
          "output_type": "stream",
          "name": "stdout",
          "text": [
            "Most common elvish character pairings:\n",
            " [['i' 'l']\n",
            " ['t' 'h']\n",
            " ['r' ' ']\n",
            " ['e' 'b']\n",
            " ['r' 'o']\n",
            " ['o' 'r']\n",
            " ['p' 'a']\n",
            " ['i' 'n']\n",
            " ['e' 'l']\n",
            " ['a' 'r']]\n",
            "Most common orcish character pairings:\n",
            " [['g' 'o']\n",
            " ['b' 'a']\n",
            " ['g' 'a']\n",
            " ['h' ' ']\n",
            " ['g' 'r']\n",
            " [' ' 'g']\n",
            " ['s' 'h']\n",
            " ['u' 'g']\n",
            " ['a' 'g']\n",
            " ['g' ' ']]\n"
          ]
        },
        {
          "output_type": "execute_result",
          "data": {
            "text/plain": [
              "[<matplotlib.lines.Line2D at 0x7f3efb315510>]"
            ]
          },
          "metadata": {},
          "execution_count": 30
        },
        {
          "output_type": "display_data",
          "data": {
            "text/plain": [
              "<Figure size 432x288 with 1 Axes>"
            ],
            "image/png": "[encoded data removed]"
          },
          "metadata": {
            "needs_background": "light"
          }
        }
      ]
    },
    {
      "cell_type": "markdown",
      "source": [
        "#Higher Dimensions\n",
        "Now you can imagine that any point within the black box above is most likely an Elvish name. Likewise, any point outside the box is probably an Orcish name. This is the same logic we will use in 26 dimensions, where we have one for each character in the alphabet. Lets begin by mapping each name to a 26 degree vector. This vector is populated using the character counts in each name. So if there are 2 As in any name, the first entry will be 2. Likewise, if there is 1 G, the 6th entry will be 1."
      ],
      "metadata": {
        "id": "YcapXW5haNoE"
      }
    },
    {
      "cell_type": "code",
      "source": [
        "alph = list('abcdefghijklmnopqrstuvwxyz')\n",
        "a_map = {}\n",
        "for i in range(26):\n",
        "  a_map[alph[i]] = i\n",
        "\n",
        "#Character count vector\n",
        "def char_vec(s):\n",
        "  vec = [0] * 26\n",
        "  chars, counts = np.unique(list(s.lower()), return_counts=True)  \n",
        "  for i in range(len(chars)):\n",
        "    c = chars[i]\n",
        "    if c in a_map.keys():\n",
        "      vec[a_map[c]] = counts[i]\n",
        "  return vec\n",
        "\n",
        "vecs = []\n",
        "for x in df['Name']:\n",
        "  vecs.append(char_vec(x))\n",
        "vecs = np.array(vecs) #All vectors for character names (same order as the dataframe)\n",
        "\n",
        "df['Name'][0], vecs[0]"
      ],
      "metadata": {
        "id": "wGcZIwB-H219",
        "colab": {
          "base_uri": "https://localhost:8080/"
        },
        "outputId": "04ddc2c9-a851-4d32-bc91-7a90663860b1"
      },
      "execution_count": 31,
      "outputs": [
        {
          "output_type": "execute_result",
          "data": {
            "text/plain": [
              "('Aragorn II',\n",
              " array([2, 0, 0, 0, 0, 0, 1, 0, 2, 0, 0, 0, 0, 1, 1, 0, 0, 2, 0, 0, 0, 0,\n",
              "        0, 0, 0, 0]))"
            ]
          },
          "metadata": {},
          "execution_count": 31
        }
      ]
    },
    {
      "cell_type": "markdown",
      "source": [
        "#How Everything Works\n",
        "To compute the distances between vectors we will use euclidean distance. That is for two n length vectors Va = [va0, va1, ... Van] and Vb = [vb0, vb1, ..., vbn] the distance $d = \\sqrt[2]{(va0 - vb0)^2 + (va1 - vb1)^2 + ... + (van - vbn)^2}$\n",
        "\n",
        "To find the closest name in lord of the rings, we will use a simplified version of the K-Nearest-Neighbors algorithm. If you are interested, here is a link that explains more: https://towardsdatascience.com/machine-learning-basics-with-the-k-nearest-neighbors-algorithm-6a6e71d01761.\n",
        "\n",
        "For everyone else, it will basically sort the distance of each name in ascending order. Then the position of our closest match is the first one in the list."
      ],
      "metadata": {
        "id": "vbFmUJhNUl8F"
      }
    },
    {
      "cell_type": "code",
      "source": [
        "#Euclidean Distance between each vector\n",
        "def dist(v):\n",
        "  return np.sqrt(np.sum((vecs - v)**2, axis=1))\n",
        "\n",
        "#K Nearest Neighbor (K is the length of the list in this case)\n",
        "def KNN(s):\n",
        "  v = np.array(char_vec(s))\n",
        "  dists = dist(v)\n",
        "  return np.argsort(dists)\n",
        "\n",
        "#Matches a name to its closest information\n",
        "def match_name(name):\n",
        "  neighbors = KNN(name)\n",
        "  race = df['Race'][neighbors[0]] #Race of closest name\n",
        "  eth = next(item for item in df['Ethnicity'][neighbors] if item is not None) #Race of closest name with a listed ethnicity\n",
        "  rel = df['Name'][neighbors[0]] #\n",
        "  locs = df['Homes'][neighbors].to_numpy()\n",
        "  locs = locs[locs != None][0:10]\n",
        "  homes, counts = np.unique(np.concatenate(locs), return_counts=True)\n",
        "  home = homes[counts.argsort()[-1]]\n",
        "  return(eth, race, home, rel)\n",
        "\n",
        "#Print the result using HTML so it looks nice\n",
        "def display_results(name, res):\n",
        "  disp = f\"\"\"\n",
        "    <h1>{name}'s Results</h1>\n",
        "    <h4>Closest Ethnicity: {res[0]}</h4>\n",
        "    <h4>Closest Race: {res[1]}</h4>\n",
        "    <h4>Possible Home: {res[2]}</h4>\n",
        "    <h4>Closest Relative: {res[3]}</h4>\n",
        "  \"\"\"\n",
        "  display(IPython.display.HTML(disp))\n",
        "\n",
        "#Run the above methods in the right order\n",
        "def run(name):\n",
        "  display_results(name, match_name(name))"
      ],
      "metadata": {
        "id": "wfoYCDU8oYIV"
      },
      "execution_count": 32,
      "outputs": []
    },
    {
      "cell_type": "markdown",
      "source": [
        "Now lets test our method using my name, the common elf characters, and the common orc characters. If all goes well, the elvish and orcish characters should return the name and race of an elf and orc respectively."
      ],
      "metadata": {
        "id": "jLS017HOWOZt"
      }
    },
    {
      "cell_type": "code",
      "source": [
        "run(\"Owen Knott\")\n",
        "#Run the string of common elf character pairs\n",
        "elf = \"\" \n",
        "for x in np.unique(np.concatenate(elf_pairs)):\n",
        "  elf += x \n",
        "run(elf)\n",
        "run(\"ugkluz\")"
      ],
      "metadata": {
        "colab": {
          "base_uri": "https://localhost:8080/",
          "height": 613
        },
        "id": "MFUklsnnPOhe",
        "outputId": "255ab17b-e5d8-42e6-cd28-16352ed7c4fa"
      },
      "execution_count": 33,
      "outputs": [
        {
          "output_type": "display_data",
          "data": {
            "text/plain": [
              "<IPython.core.display.HTML object>"
            ],
            "text/html": [
              "\n",
              "    <h1>Owen Knott's Results</h1>\n",
              "    <h4>Closest Ethnicity: Cotton-Gamgee</h4>\n",
              "    <h4>Closest Race: Hobbit</h4>\n",
              "    <h4>Possible Home: Gondolin</h4>\n",
              "    <h4>Closest Relative: Rose Cotton</h4>\n",
              "  "
            ]
          },
          "metadata": {}
        },
        {
          "output_type": "display_data",
          "data": {
            "text/plain": [
              "<IPython.core.display.HTML object>"
            ],
            "text/html": [
              "\n",
              "    <h1> abehilnoprt's Results</h1>\n",
              "    <h4>Closest Ethnicity: House of Haleth</h4>\n",
              "    <h4>Closest Race: Elf</h4>\n",
              "    <h4>Possible Home: Rivendell</h4>\n",
              "    <h4>Closest Relative: Nimlothpar</h4>\n",
              "  "
            ]
          },
          "metadata": {}
        },
        {
          "output_type": "display_data",
          "data": {
            "text/plain": [
              "<IPython.core.display.HTML object>"
            ],
            "text/html": [
              "\n",
              "    <h1>ugkluz's Results</h1>\n",
              "    <h4>Closest Ethnicity: Uruk-hai</h4>\n",
              "    <h4>Closest Race: Orc</h4>\n",
              "    <h4>Possible Home: Erebor</h4>\n",
              "    <h4>Closest Relative: Lug </h4>\n",
              "  "
            ]
          },
          "metadata": {}
        }
      ]
    },
    {
      "cell_type": "markdown",
      "source": [
        "The results are good but some of them do not make sense. Some ethnicities and names or races do not line up since not all ethnicities are listed. Similarly, some of the places of residence do not make sense with the rest of the data. Individually, these values are the closest that are provided to each passed name. However, since there is missing data, not all values are directly associated. This is just the nature of using untidied data.\n",
        "\n",
        "#Class Results"
      ],
      "metadata": {
        "id": "BdMcTxSa8xCT"
      }
    },
    {
      "cell_type": "code",
      "source": [
        "r_html = open('ENG375_Creative_Proj/Class_Roster.rtf').read()\n",
        "rbs = bs(r_html)\n",
        "rost = rbs.find_all(\"a\",'roster_user_name')\n",
        "\n",
        "for elt in rost:\n",
        "  name = elt.text\n",
        "  try:\n",
        "    name = name[:name.index('(')]\n",
        "  except:\n",
        "    pass\n",
        "  run(name)\n",
        "  "
      ],
      "metadata": {
        "colab": {
          "base_uri": "https://localhost:8080/",
          "height": 1000
        },
        "id": "kNhNYty2TJFp",
        "outputId": "06c69fcc-97c5-49ef-bf07-dcc2bf324454"
      },
      "execution_count": 34,
      "outputs": [
        {
          "output_type": "display_data",
          "data": {
            "text/plain": [
              "<IPython.core.display.HTML object>"
            ],
            "text/html": [
              "\n",
              "    <h1>Jarvis Andrade\\par\n",
              "  's Results</h1>\n",
              "    <h4>Closest Ethnicity: Numenorean</h4>\n",
              "    <h4>Closest Race: Man</h4>\n",
              "    <h4>Possible Home: Rivendell</h4>\n",
              "    <h4>Closest Relative: Vardamirpar</h4>\n",
              "  "
            ]
          },
          "metadata": {}
        },
        {
          "output_type": "display_data",
          "data": {
            "text/plain": [
              "<IPython.core.display.HTML object>"
            ],
            "text/html": [
              "\n",
              "    <h1>Hana Askari\\par\n",
              "  's Results</h1>\n",
              "    <h4>Closest Ethnicity: Dunedain</h4>\n",
              "    <h4>Closest Race: Man</h4>\n",
              "    <h4>Possible Home: Rivendell</h4>\n",
              "    <h4>Closest Relative: Arantarpar</h4>\n",
              "  "
            ]
          },
          "metadata": {}
        },
        {
          "output_type": "display_data",
          "data": {
            "text/plain": [
              "<IPython.core.display.HTML object>"
            ],
            "text/html": [
              "\n",
              "    <h1>Christopher Brooks\\par\n",
              "  's Results</h1>\n",
              "    <h4>Closest Ethnicity: Brockhouse-Boffin</h4>\n",
              "    <h4>Closest Race: Hobbit</h4>\n",
              "    <h4>Possible Home: TheShire</h4>\n",
              "    <h4>Closest Relative: Sapphira Brockhouse</h4>\n",
              "  "
            ]
          },
          "metadata": {}
        },
        {
          "output_type": "display_data",
          "data": {
            "text/plain": [
              "<IPython.core.display.HTML object>"
            ],
            "text/html": [
              "\n",
              "    <h1>Seth Mateo Cohen\\par\n",
              "  's Results</h1>\n",
              "    <h4>Closest Ethnicity: Hornblower-Bolger</h4>\n",
              "    <h4>Closest Race: Hobbit</h4>\n",
              "    <h4>Possible Home: Tuckborough</h4>\n",
              "    <h4>Closest Relative: Amethyst Hornblower</h4>\n",
              "  "
            ]
          },
          "metadata": {}
        },
        {
          "output_type": "display_data",
          "data": {
            "text/plain": [
              "<IPython.core.display.HTML object>"
            ],
            "text/html": [
              "\n",
              "    <h1>Jenna Corazzi 's Results</h1>\n",
              "    <h4>Closest Ethnicity: Numenorean</h4>\n",
              "    <h4>Closest Race: Man</h4>\n",
              "    <h4>Possible Home: Rivendell</h4>\n",
              "    <h4>Closest Relative: Anerion</h4>\n",
              "  "
            ]
          },
          "metadata": {}
        },
        {
          "output_type": "display_data",
          "data": {
            "text/plain": [
              "<IPython.core.display.HTML object>"
            ],
            "text/html": [
              "\n",
              "    <h1>Elissa Dallimore\\par\n",
              "  's Results</h1>\n",
              "    <h4>Closest Ethnicity: Numenorean</h4>\n",
              "    <h4>Closest Race: Man</h4>\n",
              "    <h4>Possible Home: Budgeford</h4>\n",
              "    <h4>Closest Relative: Tar-Elendilpar</h4>\n",
              "  "
            ]
          },
          "metadata": {}
        },
        {
          "output_type": "display_data",
          "data": {
            "text/plain": [
              "<IPython.core.display.HTML object>"
            ],
            "text/html": [
              "\n",
              "    <h1>Brian Doolan\\par\n",
              "  's Results</h1>\n",
              "    <h4>Closest Ethnicity: Numenorean</h4>\n",
              "    <h4>Closest Race: Man</h4>\n",
              "    <h4>Possible Home: Rivendell</h4>\n",
              "    <h4>Closest Relative: Caliondopar</h4>\n",
              "  "
            ]
          },
          "metadata": {}
        },
        {
          "output_type": "display_data",
          "data": {
            "text/plain": [
              "<IPython.core.display.HTML object>"
            ],
            "text/html": [
              "\n",
              "    <h1>Carla Duran\\par\n",
              "  's Results</h1>\n",
              "    <h4>Closest Ethnicity: Dunedain</h4>\n",
              "    <h4>Closest Race: Man</h4>\n",
              "    <h4>Possible Home: Rivendell</h4>\n",
              "    <h4>Closest Relative: Valandurpar</h4>\n",
              "  "
            ]
          },
          "metadata": {}
        },
        {
          "output_type": "display_data",
          "data": {
            "text/plain": [
              "<IPython.core.display.HTML object>"
            ],
            "text/html": [
              "\n",
              "    <h1>Candace Hopkins\\par\n",
              "  's Results</h1>\n",
              "    <h4>Closest Ethnicity: House of Beor</h4>\n",
              "    <h4>Closest Race: Man</h4>\n",
              "    <h4>Possible Home: Numenor</h4>\n",
              "    <h4>Closest Relative: Arachonpar</h4>\n",
              "  "
            ]
          },
          "metadata": {}
        },
        {
          "output_type": "display_data",
          "data": {
            "text/plain": [
              "<IPython.core.display.HTML object>"
            ],
            "text/html": [
              "\n",
              "    <h1>Zan Husain\\par\n",
              "  's Results</h1>\n",
              "    <h4>Closest Ethnicity: Numenorean</h4>\n",
              "    <h4>Closest Race: Man</h4>\n",
              "    <h4>Possible Home: Rivendell</h4>\n",
              "    <h4>Closest Relative: Ar-Pharazfn</h4>\n",
              "  "
            ]
          },
          "metadata": {}
        },
        {
          "output_type": "display_data",
          "data": {
            "text/plain": [
              "<IPython.core.display.HTML object>"
            ],
            "text/html": [
              "\n",
              "    <h1>Owen Knott\\par\n",
              "  's Results</h1>\n",
              "    <h4>Closest Ethnicity: Took</h4>\n",
              "    <h4>Closest Race: Hobbit</h4>\n",
              "    <h4>Possible Home: Tuckborough</h4>\n",
              "    <h4>Closest Relative: Pervinca Took</h4>\n",
              "  "
            ]
          },
          "metadata": {}
        },
        {
          "output_type": "display_data",
          "data": {
            "text/plain": [
              "<IPython.core.display.HTML object>"
            ],
            "text/html": [
              "\n",
              "    <h1>Lars Knudsen 's Results</h1>\n",
              "    <h4>Closest Ethnicity: Valar</h4>\n",
              "    <h4>Closest Race: Ainur</h4>\n",
              "    <h4>Possible Home: Rivendell</h4>\n",
              "    <h4>Closest Relative: Nessa</h4>\n",
              "  "
            ]
          },
          "metadata": {}
        },
        {
          "output_type": "display_data",
          "data": {
            "text/plain": [
              "<IPython.core.display.HTML object>"
            ],
            "text/html": [
              "\n",
              "    <h1>Anisha Kosuri\\par\n",
              "  's Results</h1>\n",
              "    <h4>Closest Ethnicity: Dunedain</h4>\n",
              "    <h4>Closest Race: Man</h4>\n",
              "    <h4>Possible Home: Rivendell</h4>\n",
              "    <h4>Closest Relative: Arathorn II</h4>\n",
              "  "
            ]
          },
          "metadata": {}
        },
        {
          "output_type": "display_data",
          "data": {
            "text/plain": [
              "<IPython.core.display.HTML object>"
            ],
            "text/html": [
              "\n",
              "    <h1>Melissa Mader 's Results</h1>\n",
              "    <h4>Closest Ethnicity: Huorn</h4>\n",
              "    <h4>Closest Race: Tree</h4>\n",
              "    <h4>Possible Home: Valinor</h4>\n",
              "    <h4>Closest Relative: Lassemista </h4>\n",
              "  "
            ]
          },
          "metadata": {}
        },
        {
          "output_type": "display_data",
          "data": {
            "text/plain": [
              "<IPython.core.display.HTML object>"
            ],
            "text/html": [
              "\n",
              "    <h1>Eric Osterberg\\par\n",
              "  's Results</h1>\n",
              "    <h4>Closest Ethnicity: Gardner</h4>\n",
              "    <h4>Closest Race: Hobbit</h4>\n",
              "    <h4>Possible Home: Hobbiton</h4>\n",
              "    <h4>Closest Relative: Primrose Gardner </h4>\n",
              "  "
            ]
          },
          "metadata": {}
        },
        {
          "output_type": "display_data",
          "data": {
            "text/plain": [
              "<IPython.core.display.HTML object>"
            ],
            "text/html": [
              "\n",
              "    <h1>Gabriela Rasmussen Diaz\\par\n",
              "  's Results</h1>\n",
              "    <h4>Closest Ethnicity: Numenorean</h4>\n",
              "    <h4>Closest Race: Man</h4>\n",
              "    <h4>Possible Home: TheShire</h4>\n",
              "    <h4>Closest Relative: Tar-Amandilpar</h4>\n",
              "  "
            ]
          },
          "metadata": {}
        },
        {
          "output_type": "display_data",
          "data": {
            "text/plain": [
              "<IPython.core.display.HTML object>"
            ],
            "text/html": [
              "\n",
              "    <h1>Vichetrithy Sam 's Results</h1>\n",
              "    <h4>Closest Ethnicity: Gondorian</h4>\n",
              "    <h4>Closest Race: Man</h4>\n",
              "    <h4>Possible Home: Erebor</h4>\n",
              "    <h4>Closest Relative: Calimehtar </h4>\n",
              "  "
            ]
          },
          "metadata": {}
        },
        {
          "output_type": "display_data",
          "data": {
            "text/plain": [
              "<IPython.core.display.HTML object>"
            ],
            "text/html": [
              "\n",
              "    <h1>Sharattram Seenivasan\\par\n",
              "  's Results</h1>\n",
              "    <h4>Closest Ethnicity: Numenorean</h4>\n",
              "    <h4>Closest Race: Man</h4>\n",
              "    <h4>Possible Home: Tirion</h4>\n",
              "    <h4>Closest Relative: Tar-Atanamir</h4>\n",
              "  "
            ]
          },
          "metadata": {}
        },
        {
          "output_type": "display_data",
          "data": {
            "text/plain": [
              "<IPython.core.display.HTML object>"
            ],
            "text/html": [
              "\n",
              "    <h1>Stephanie Shutter\\par\n",
              "  's Results</h1>\n",
              "    <h4>Closest Ethnicity: Numenorean</h4>\n",
              "    <h4>Closest Race: Man</h4>\n",
              "    <h4>Possible Home: Rivendell</h4>\n",
              "    <h4>Closest Relative: Tar-Telperiebn</h4>\n",
              "  "
            ]
          },
          "metadata": {}
        },
        {
          "output_type": "display_data",
          "data": {
            "text/plain": [
              "<IPython.core.display.HTML object>"
            ],
            "text/html": [
              "\n",
              "    <h1>Anaya Steward 's Results</h1>\n",
              "    <h4>Closest Ethnicity: Dunedain</h4>\n",
              "    <h4>Closest Race: Man</h4>\n",
              "    <h4>Possible Home: Rivendell</h4>\n",
              "    <h4>Closest Relative: Aratan </h4>\n",
              "  "
            ]
          },
          "metadata": {}
        },
        {
          "output_type": "display_data",
          "data": {
            "text/plain": [
              "<IPython.core.display.HTML object>"
            ],
            "text/html": [
              "\n",
              "    <h1>Arhum Syed\\par\n",
              "  's Results</h1>\n",
              "    <h4>Closest Ethnicity: Noldor</h4>\n",
              "    <h4>Closest Race: Elf</h4>\n",
              "    <h4>Possible Home: Rivendell</h4>\n",
              "    <h4>Closest Relative: Maedhrospar</h4>\n",
              "  "
            ]
          },
          "metadata": {}
        },
        {
          "output_type": "display_data",
          "data": {
            "text/plain": [
              "<IPython.core.display.HTML object>"
            ],
            "text/html": [
              "\n",
              "    <h1>Gabrielle Trivelli\\par\n",
              "  's Results</h1>\n",
              "    <h4>Closest Ethnicity: Numenorean</h4>\n",
              "    <h4>Closest Race: Man</h4>\n",
              "    <h4>Possible Home: TheShire</h4>\n",
              "    <h4>Closest Relative: Tar-Elendilpar</h4>\n",
              "  "
            ]
          },
          "metadata": {}
        },
        {
          "output_type": "display_data",
          "data": {
            "text/plain": [
              "<IPython.core.display.HTML object>"
            ],
            "text/html": [
              "\n",
              "    <h1>Vessela Valiavitcharska\\par\n",
              "  's Results</h1>\n",
              "    <h4>Closest Ethnicity: Sackville-Baggins</h4>\n",
              "    <h4>Closest Race: Hobbit</h4>\n",
              "    <h4>Possible Home: Rivendell</h4>\n",
              "    <h4>Closest Relative: Camellia Sackville</h4>\n",
              "  "
            ]
          },
          "metadata": {}
        },
        {
          "output_type": "display_data",
          "data": {
            "text/plain": [
              "<IPython.core.display.HTML object>"
            ],
            "text/html": [
              "\n",
              "    <h1>Anne Wedgeworth 's Results</h1>\n",
              "    <h4>Closest Ethnicity: Teleri</h4>\n",
              "    <h4>Closest Race: Elf</h4>\n",
              "    <h4>Possible Home: Rohan</h4>\n",
              "    <h4>Closest Relative: Eerwen</h4>\n",
              "  "
            ]
          },
          "metadata": {}
        },
        {
          "output_type": "display_data",
          "data": {
            "text/plain": [
              "<IPython.core.display.HTML object>"
            ],
            "text/html": [
              "\n",
              "    <h1>Jennifer Wojeck 's Results</h1>\n",
              "    <h4>Closest Ethnicity: Teleri</h4>\n",
              "    <h4>Closest Race: Elf</h4>\n",
              "    <h4>Possible Home: Rivendell</h4>\n",
              "    <h4>Closest Relative: Eerwen</h4>\n",
              "  "
            ]
          },
          "metadata": {}
        }
      ]
    },
    {
      "cell_type": "code",
      "source": [
        ""
      ],
      "metadata": {
        "id": "2ucTaUxee4o0"
      },
      "execution_count": 34,
      "outputs": []
    }
  ]
}